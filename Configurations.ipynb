{
  "nbformat": 4,
  "nbformat_minor": 0,
  "metadata": {
    "colab": {
      "name": "Configurations",
      "provenance": [],
      "collapsed_sections": [],
      "toc_visible": true,
      "authorship_tag": "ABX9TyMUWTxF2tS4VSyGEcWSmk5r",
      "include_colab_link": true
    },
    "kernelspec": {
      "name": "python3",
      "display_name": "Python 3"
    },
    "language_info": {
      "name": "python"
    }
  },
  "cells": [
    {
      "cell_type": "markdown",
      "metadata": {
        "id": "view-in-github",
        "colab_type": "text"
      },
      "source": [
        "<a href=\"https://colab.research.google.com/github/imnotartsy/OnshapeColab-Activities/blob/main/Configurations.ipynb\" target=\"_parent\"><img src=\"https://colab.research.google.com/assets/colab-badge.svg\" alt=\"Open In Colab\"/></a>"
      ]
    },
    {
      "cell_type": "markdown",
      "metadata": {
        "id": "Mf2xaAgqij5a"
      },
      "source": [
        "# Hi! Welcome to the Onshape API Playgound!\n",
        "This notebook contains the setup for installing the Onshape API Playground, the starter code to get connected to the Onshape API, and an introduction to configurations in Onshape.\n",
        "\n",
        "## Getting Started\n",
        "1. Get your Onshape **assembly** document set up with configurations! When getting started with configurations in Onshape, an example is often helpful avaliable [here](https://cad.onshape.com/documents/d75bb6f0855244bdb3902141/w/2a59db92740eb894f3b29038/e/3bddbc17e620a65192e913f8).\n",
        "  - Copy this public document with prebuilt configurations by clicking on the \"Make a copy\" button in the top right, so you can edit the configurations and document as you need!\n",
        "  - This document is preset so the configurations are set to different mate angles between the clock hands and the clock face in terms of degrees.\n",
        "  - Note you will need an Onshape Account to copy this document, although this is not necessary to edit the configuration values of the example document.\n",
        "\n",
        "2. Enter your document parameters and API Keys in Code Cell 2.\n",
        "  - More information on document preferences can be found [here](https://github.com/imnotartsy/Onshape-90min-Activities/blob/main/README.md#document-settings).\n",
        "  - More information on Onshape API keys can be found [here](https://github.com/imnotartsy/Onshape-90min-Activities/blob/main/README.md#api-keys).\n",
        "\n",
        "## Function Documentation\n",
        "All the documentation regarding functions in OnshapeColab (oc) Library can be found [here](https://github.com/imnotartsy/OnshapeColab/blob/master/README.md#function-documentation).\n",
        "\n",
        "Happy Tinkering!"
      ]
    },
    {
      "cell_type": "markdown",
      "metadata": {
        "id": "4yjm835pioS8"
      },
      "source": [
        "# Installation Blocks\n",
        "Run these once at the beginning of every session!"
      ]
    },
    {
      "cell_type": "code",
      "metadata": {
        "id": "TMbjzxtqibII"
      },
      "source": [
        "# Github Installation and fresh requirements install\n",
        "\n",
        "!rm -r OnshapeColab\n",
        "## If this is your first time running this cell the output should be\n",
        "##   \"rm: cannot remove 'OnshapeColab': No such file or directory\"\n",
        "\n",
        "print(\"*** Installing git repo . . . ***\")\n",
        "!git clone https://github.com/imnotartsy/OnshapeColab\n",
        "\n",
        "print(\"\\n*** Installing external dependencies . . . ***\")\n",
        "!pip install -r OnshapeColab/requirements.txt\n",
        "\n",
        "print(\"\\n*** Repository and requirements installed sucessfully! ***\")"
      ],
      "execution_count": null,
      "outputs": []
    },
    {
      "cell_type": "code",
      "metadata": {
        "id": "mD_I-x_Ii2vZ"
      },
      "source": [
        "# Connect to Onshape\n",
        "import OnshapeColab as oc\n",
        "import json\n",
        "\n",
        "## Document identifiers\n",
        "\n",
        "### Clock\n",
        "# workspace = \"https://cad.onshape.com\" ## Defaults to cad.onshape\n",
        "# did = \"d75bb6f0855244bdb3902141\"\n",
        "# wid = \"2a59db92740eb894f3b29038\"\n",
        "# eid = \"3bddbc17e620a65192e913f8\"\n",
        "\n",
        "### Translatiotion test\n",
        "did = \"0b15b64be5e54bc64d6fb3ff\"\n",
        "wid = \"8653864b34cbf101c1c0acb1\"\n",
        "eid = \"58703372dd872b5ec7f548a2\"\n",
        "\n",
        "## Onshape API keys\n",
        "# access =\"<Insert-Access-Key-Here>\"\n",
        "# secret = \"<Insert-Secret-Key-Here>\"\n",
        "\n",
        "## Connects to Onshape API\n",
        "oc.connectToOnshape(did, wid, eid, access, secret, verbose=True)"
      ],
      "execution_count": null,
      "outputs": []
    },
    {
      "cell_type": "code",
      "metadata": {
        "id": "yivFHJXijPP_"
      },
      "source": [
        "# Get Parts and Configurations\n",
        "\n",
        "## Gets Assembly (parts and positions) information\n",
        "## Note: Assembly info prints all the parts and sub assemblies!\n",
        "assemblyInfo = oc.getAssemblyInfo()\n",
        "oc.printAssembly(assemblyInfo, positions=True)\n",
        "\n",
        "## Gets Configurations\n",
        "configInfo = oc.getConfigurations()\n",
        "oc.printConfigurations(configInfo)"
      ],
      "execution_count": null,
      "outputs": []
    },
    {
      "cell_type": "markdown",
      "metadata": {
        "id": "ftcW2ATVjQQT"
      },
      "source": [
        "# Configurations"
      ]
    },
    {
      "cell_type": "code",
      "metadata": {
        "id": "eWRR6M-OjUvy"
      },
      "source": [
        "# Editing configurations\n",
        "\n",
        "## Prompts the user to edit their configurations\n",
        "newConfigs = oc.promptConfigurations(configInfo)\n",
        "\n",
        "print(\"\\nConfigurations that will be changed:\")\n",
        "print(json.dumps(newConfigs, indent=2), \"\\n\")\n",
        "\n",
        "## Makes API call to edit configurations\n",
        "oc.setConfigurations(newConfigs, configInfo)"
      ],
      "execution_count": null,
      "outputs": []
    },
    {
      "cell_type": "code",
      "metadata": {
        "id": "E99PY6pejiwe"
      },
      "source": [
        "# Manually Editting Configurations (Redudent with cell above)\n",
        "\n",
        "## Example newConfig body (for the clock demo) to be used with setConfigurations\n",
        "newConfigs = {\n",
        "    \"Rotation\": 0,\n",
        "    \"HourRotation\": 0,\n",
        "    \"SecondRotation\": 0\n",
        "}\n",
        "\n",
        "## Makes API call to edit configurations\n",
        "oc.setConfigurations(newConfigs, configInfo)\n",
        "\n",
        "## Try recalling and printing the assembly info to test if the document's\n",
        "## positions and configurations to verify the configurations have been updated!"
      ],
      "execution_count": null,
      "outputs": []
    }
  ]
}