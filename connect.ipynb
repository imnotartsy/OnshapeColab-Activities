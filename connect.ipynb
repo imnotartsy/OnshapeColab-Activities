{
  "nbformat": 4,
  "nbformat_minor": 0,
  "metadata": {
    "colab": {
      "name": "connect.ipynb",
      "provenance": [],
      "collapsed_sections": [
        "YTDxpMiV4MPF",
        "yEnhaXF0NimZ"
      ],
      "include_colab_link": true
    },
    "kernelspec": {
      "name": "python3",
      "display_name": "Python 3"
    }
  },
  "cells": [
    {
      "cell_type": "markdown",
      "metadata": {
        "id": "view-in-github",
        "colab_type": "text"
      },
      "source": [
        "<a href=\"https://colab.research.google.com/github/imnotartsy/OnshapeColab-Activities/blob/main/connect.ipynb\" target=\"_parent\"><img src=\"https://colab.research.google.com/assets/colab-badge.svg\" alt=\"Open In Colab\"/></a>"
      ]
    },
    {
      "cell_type": "markdown",
      "metadata": {
        "id": "COOE4In1LdPA"
      },
      "source": [
        "# Hi! Welcome to the Onshape API Playgound! (README)\n",
        "This notebook contains the setup for installing the Onshape API Playground, the starter code to get connected to the Onshape API, and an introduction to configurations in Onshape.\n",
        "\n",
        "## Into to Configurations\n",
        "What is a configuration? -- A Configuration is basically any parameter that can be set in Onshape [* WIP]. For the entirity of this document, configurations will be synonomyous with edittable **integer** variables withinin an Onshape document.\n",
        "\n",
        "Read more about configurations [here](https://cad.onshape.com/help/Content/configurations.htm)!\n",
        "\n",
        "## Getting Started\n",
        "1. Get your Onshape **assembly** document set up with configurations! When getting started with configurations in Onshape, an example is often helpful avaliable [here](https://cad.onshape.com/documents/d75bb6f0855244bdb3902141/w/2a59db92740eb894f3b29038/e/3bddbc17e620a65192e913f8).\n",
        "  - Copy this public document with prebuilt configurations by clicking on the \"Make a copy\" button in the top right, so you can edit the configurations and document as you need!\n",
        "  - This document is preset so the configurations are set to different mate angles between the clock hands and the clock face in terms of degrees.\n",
        "  - Note you will need an Onshape Account to copy this document, although this is not necessary to edit the configuration values of the example document.\n",
        "\n",
        "2. Enter your document parameters and API Keys in Code Cell 2.\n",
        "  - More information on document preferences can be found [here](https://github.com/imnotartsy/Onshape-90min-Activities/blob/main/README.md#document-settings).\n",
        "  - More information on Onshape API keys can be found [here](https://github.com/imnotartsy/Onshape-90min-Activities/blob/main/README.md#api-keys).\n",
        "\n",
        "## Function Documentation\n",
        "All the documentation regarding functions in OnshapeColab (oc) Library can be found [here](https://github.com/imnotartsy/OnshapeColab/blob/master/README.md#function-documentation).\n",
        "\n",
        "Happy Tinkering!"
      ]
    },
    {
      "cell_type": "code",
      "metadata": {
        "colab": {
          "base_uri": "https://localhost:8080/"
        },
        "id": "spxcs5j2LEdg",
        "outputId": "945fc1b2-8b40-442e-c914-06ce28538889"
      },
      "source": [
        "# Github Installation and fresh requirements install\n",
        "\n",
        "!rm -r OnshapeColab\n",
        "## If this is your first time running this cell the output should be\n",
        "##   \"rm: cannot remove 'OnshapeColab': No such file or directory\"\n",
        "\n",
        "print(\"*** Installing git repo . . . ***\")\n",
        "!git clone https://github.com/imnotartsy/OnshapeColab\n",
        "\n",
        "print(\"\\n*** Installing external dependencies . . . ***\")\n",
        "!pip install -r OnshapeColab/requirements.txt\n",
        "\n",
        "print(\"\\n*** Repository and requirements installed sucessfully! ***\")"
      ],
      "execution_count": 1,
      "outputs": [
        {
          "output_type": "stream",
          "text": [
            "rm: cannot remove 'OnshapeColab': No such file or directory\n",
            "*** Installing git repo . . . ***\n",
            "Cloning into 'OnshapeColab'...\n",
            "remote: Enumerating objects: 977, done.\u001b[K\n",
            "remote: Counting objects: 100% (977/977), done.\u001b[K\n",
            "remote: Compressing objects: 100% (485/485), done.\u001b[K\n",
            "remote: Total 977 (delta 592), reused 841 (delta 473), pack-reused 0\u001b[K\n",
            "Receiving objects: 100% (977/977), 211.84 KiB | 7.30 MiB/s, done.\n",
            "Resolving deltas: 100% (592/592), done.\n",
            "\n",
            "*** Installing external dependencies . . . ***\n",
            "Requirement already satisfied: certifi==2020.12.5 in /usr/local/lib/python3.7/dist-packages (from -r OnshapeColab/requirements.txt (line 1)) (2020.12.5)\n",
            "Requirement already satisfied: chardet==3.0.4 in /usr/local/lib/python3.7/dist-packages (from -r OnshapeColab/requirements.txt (line 2)) (3.0.4)\n",
            "Requirement already satisfied: idna==2.10 in /usr/local/lib/python3.7/dist-packages (from -r OnshapeColab/requirements.txt (line 3)) (2.10)\n",
            "Collecting nulltype==2.3.1\n",
            "  Downloading https://files.pythonhosted.org/packages/00/0f/47dde1a3cceac9858da0bfb92d2279bf5f993ed075b72983e92efc297db3/nulltype-2.3.1-py2.py3-none-any.whl\n",
            "Requirement already satisfied: numpy==1.19.5 in /usr/local/lib/python3.7/dist-packages (from -r OnshapeColab/requirements.txt (line 5)) (1.19.5)\n",
            "Requirement already satisfied: oauthlib==3.1.0 in /usr/local/lib/python3.7/dist-packages (from -r OnshapeColab/requirements.txt (line 6)) (3.1.0)\n",
            "Collecting onshape-client==1.6.3\n",
            "\u001b[?25l  Downloading https://files.pythonhosted.org/packages/e7/e4/687bad02d5f0b04d507e029b7728269706c51c5caf1280223e423a2ac05a/onshape_client-1.6.3-py3-none-any.whl (2.1MB)\n",
            "\u001b[K     |████████████████████████████████| 2.1MB 5.7MB/s \n",
            "\u001b[?25hRequirement already satisfied: packaging==20.9 in /usr/local/lib/python3.7/dist-packages (from -r OnshapeColab/requirements.txt (line 8)) (20.9)\n",
            "Collecting Pint==0.16.1\n",
            "\u001b[?25l  Downloading https://files.pythonhosted.org/packages/5f/0e/dd4fb17aed6bfbc168fd767cffb6ec20b634009b75fd8ea699ea244bff3c/Pint-0.16.1-py2.py3-none-any.whl (205kB)\n",
            "\u001b[K     |████████████████████████████████| 215kB 43.6MB/s \n",
            "\u001b[?25hRequirement already satisfied: pyparsing==2.4.7 in /usr/local/lib/python3.7/dist-packages (from -r OnshapeColab/requirements.txt (line 10)) (2.4.7)\n",
            "Requirement already satisfied: python-dateutil==2.8.1 in /usr/local/lib/python3.7/dist-packages (from -r OnshapeColab/requirements.txt (line 11)) (2.8.1)\n",
            "Requirement already satisfied: requests==2.23.0 in /usr/local/lib/python3.7/dist-packages (from -r OnshapeColab/requirements.txt (line 12)) (2.23.0)\n",
            "Requirement already satisfied: requests-oauthlib==1.3.0 in /usr/local/lib/python3.7/dist-packages (from -r OnshapeColab/requirements.txt (line 13)) (1.3.0)\n",
            "Collecting ruamel.yaml==0.16.12\n",
            "\u001b[?25l  Downloading https://files.pythonhosted.org/packages/7e/39/186f14f3836ac5d2a6a042c8de69988770e8b9abb537610edc429e4914aa/ruamel.yaml-0.16.12-py2.py3-none-any.whl (111kB)\n",
            "\u001b[K     |████████████████████████████████| 112kB 47.9MB/s \n",
            "\u001b[?25hRequirement already satisfied: six==1.15.0 in /usr/local/lib/python3.7/dist-packages (from -r OnshapeColab/requirements.txt (line 15)) (1.15.0)\n",
            "Collecting urllib3==1.25.11\n",
            "\u001b[?25l  Downloading https://files.pythonhosted.org/packages/56/aa/4ef5aa67a9a62505db124a5cb5262332d1d4153462eb8fd89c9fa41e5d92/urllib3-1.25.11-py2.py3-none-any.whl (127kB)\n",
            "\u001b[K     |████████████████████████████████| 133kB 35.9MB/s \n",
            "\u001b[?25hRequirement already satisfied: importlib-metadata; python_version < \"3.8\" in /usr/local/lib/python3.7/dist-packages (from Pint==0.16.1->-r OnshapeColab/requirements.txt (line 9)) (3.8.1)\n",
            "Collecting ruamel.yaml.clib>=0.1.2; platform_python_implementation == \"CPython\" and python_version < \"3.9\"\n",
            "\u001b[?25l  Downloading https://files.pythonhosted.org/packages/5e/6e/f652c56bbb2c3d3fca252ffc7c0358597f57a1bbdf484dac683054950c63/ruamel.yaml.clib-0.2.2-cp37-cp37m-manylinux1_x86_64.whl (547kB)\n",
            "\u001b[K     |████████████████████████████████| 552kB 48.7MB/s \n",
            "\u001b[?25hRequirement already satisfied: zipp>=0.5 in /usr/local/lib/python3.7/dist-packages (from importlib-metadata; python_version < \"3.8\"->Pint==0.16.1->-r OnshapeColab/requirements.txt (line 9)) (3.4.1)\n",
            "Requirement already satisfied: typing-extensions>=3.6.4; python_version < \"3.8\" in /usr/local/lib/python3.7/dist-packages (from importlib-metadata; python_version < \"3.8\"->Pint==0.16.1->-r OnshapeColab/requirements.txt (line 9)) (3.7.4.3)\n",
            "\u001b[31mERROR: datascience 0.10.6 has requirement folium==0.2.1, but you'll have folium 0.8.3 which is incompatible.\u001b[0m\n",
            "Installing collected packages: nulltype, urllib3, ruamel.yaml.clib, ruamel.yaml, Pint, onshape-client\n",
            "  Found existing installation: urllib3 1.24.3\n",
            "    Uninstalling urllib3-1.24.3:\n",
            "      Successfully uninstalled urllib3-1.24.3\n",
            "Successfully installed Pint-0.16.1 nulltype-2.3.1 onshape-client-1.6.3 ruamel.yaml-0.16.12 ruamel.yaml.clib-0.2.2 urllib3-1.25.11\n",
            "\n",
            "*** Repository and requirements installed sucessfully! ***\n"
          ],
          "name": "stdout"
        }
      ]
    },
    {
      "cell_type": "code",
      "metadata": {
        "id": "vRDRzYbDMbNj",
        "colab": {
          "base_uri": "https://localhost:8080/"
        },
        "outputId": "31fa57f8-fe87-49ee-e7a5-09e136797cb2"
      },
      "source": [
        "# Connect to Onshape\n",
        "import OnshapeColab as oc\n",
        "\n",
        "## Document identifiers\n",
        "\n",
        "### Clock\n",
        "# workspace = \"https://cad.onshape.com\" ## Defaults to cad.onshape\n",
        "# did = \"d75bb6f0855244bdb3902141\"\n",
        "# wid = \"2a59db92740eb894f3b29038\"\n",
        "# eid = \"3bddbc17e620a65192e913f8\"\n",
        "\n",
        "### Translatiotion test\n",
        "# (https://cad.onshape.com/documents/0b15b64be5e54bc64d6fb3ff/w/8653864b34cbf101c1c0acb1/e/58703372dd872b5ec7f548a2)\n",
        "did = \"0b15b64be5e54bc64d6fb3ff\"\n",
        "wid = \"8653864b34cbf101c1c0acb1\"\n",
        "eid = \"58703372dd872b5ec7f548a2\"\n",
        "\n",
        "## Onshape API keys\n",
        "# access =\"<Insert-Access-Key-Here>\"\n",
        "# secret = \"<Insert-Secret-Key-Here>\"\n",
        "\n",
        "## Connects to Onshape API\n",
        "oc.connectToOnshape(did, wid, eid, access, secret, verbose=True)"
      ],
      "execution_count": 3,
      "outputs": [
        {
          "output_type": "stream",
          "text": [
            ". . . Defaulting to cad.onshape.com . . .\n",
            "Using Workbench: https://cad.onshape.com\n",
            "Document ID: 0b15b64be5e54bc64d6fb3ff\n",
            "Workspace ID: 8653864b34cbf101c1c0acb1\n",
            "Element ID: 58703372dd872b5ec7f548a2\n",
            "\n",
            "Connected to Onshape Client!\n",
            "\n",
            "Retrieved document information:\n",
            "\tDocument Name: Transformation Tests (Public)\n",
            "\tDocument Owner: T Patrosio\n",
            "Note: The eid provided is not the default for the document!\n",
            "\n"
          ],
          "name": "stdout"
        }
      ]
    },
    {
      "cell_type": "code",
      "metadata": {
        "id": "8xFY70LILKnX",
        "colab": {
          "base_uri": "https://localhost:8080/"
        },
        "outputId": "1a26fcdd-47d0-411b-e317-779ecc7455e6"
      },
      "source": [
        "# Get Parts and Configurations\n",
        "\n",
        "## Gets Assembly (parts and positions) information\n",
        "## Note: Assembly info prints all the parts and sub assemblies!\n",
        "assemblyInfo = oc.getAssemblyInfo()\n",
        "oc.printAssembly(assemblyInfo, positions=True)\n",
        "\n",
        "## Gets Configurations\n",
        "configInfo = oc.getConfigurations()\n",
        "oc.printConfigurations(configInfo)"
      ],
      "execution_count": 4,
      "outputs": [
        {
          "output_type": "stream",
          "text": [
            "Assembly Info:\n",
            "Key <1> (MpvhYOp6b7uAhogNf)\n",
            "\tTranslation (x, y, z): \t\t 0.75 \t -0.75 \t 0.0\n",
            "\tRotation (ux, uy, uz, alpha): \t 0.0 \t 0.0 \t 1.0 \t 90.0\n",
            "Plane <1> (MBY012YAYxL98d1Mo)\n",
            "\tTranslation (x, y, z): \t\t -0.75 \t -0.75 \t 0.0\n",
            "\tRotation (ux, uy, uz, alpha): \t 0 \t 0 \t 0 \t 0.0\n",
            "box <1> (MkbliODWwWA2T80sc)\n",
            "\tTranslation (x, y, z): \t\t 0.566 \t 0.887 \t 0.026\n",
            "\tRotation (ux, uy, uz, alpha): \t 0 \t 0 \t 0 \t 0.0\n",
            "\n",
            "There are no set configurations for this document.\n",
            "\n"
          ],
          "name": "stdout"
        }
      ]
    },
    {
      "cell_type": "markdown",
      "metadata": {
        "id": "YTDxpMiV4MPF"
      },
      "source": [
        "# Configurations!"
      ]
    },
    {
      "cell_type": "code",
      "metadata": {
        "colab": {
          "base_uri": "https://localhost:8080/",
          "height": 120
        },
        "id": "BhHO7Y0ekDoE",
        "outputId": "d72a525b-68a8-435b-f43e-74f7fc41e830"
      },
      "source": [
        "# Editing configurations\n",
        "import json\n",
        "\n",
        "## Prompts the user to edit their configurations\n",
        "newConfigs = oc.promptConfigurations(configInfo)\n",
        "\n",
        "print(\"\\nConfigurations that will be changed:\")\n",
        "print(json.dumps(newConfigs, indent=2), \"\\n\")\n",
        "\n",
        "## Makes API call to edit configurations\n",
        "oc.setConfigurations(newConfigs, configInfo)"
      ],
      "execution_count": 5,
      "outputs": [
        {
          "output_type": "stream",
          "text": [
            "What Configurations do you want to edit?\n",
            "\n",
            "Configurations that will be changed:\n",
            "{} \n",
            "\n"
          ],
          "name": "stdout"
        },
        {
          "output_type": "execute_result",
          "data": {
            "application/vnd.google.colaboratory.intrinsic+json": {
              "type": "string"
            },
            "text/plain": [
              "'success'"
            ]
          },
          "metadata": {
            "tags": []
          },
          "execution_count": 5
        }
      ]
    },
    {
      "cell_type": "code",
      "metadata": {
        "id": "xCfa503xLCKj"
      },
      "source": [
        "# Manually Editting Configurations (Redudent with cell above)\n",
        "\n",
        "## Example newConfig body (for the clock demo) to be used with setConfigurations\n",
        "newConfigs = {\n",
        "    \"Rotation\": 0,\n",
        "    \"HourRotation\": 0,\n",
        "    \"SecondRotation\": 0\n",
        "}\n",
        "\n",
        "## Makes API call to edit configurations\n",
        "oc.setConfigurations(newConfigs, configInfo)\n",
        "\n",
        "## Try recalling and printing the assembly info to test if the document's\n",
        "## positions and configurations to verify the configurations have been updated!"
      ],
      "execution_count": null,
      "outputs": []
    },
    {
      "cell_type": "markdown",
      "metadata": {
        "id": "yEnhaXF0NimZ"
      },
      "source": [
        "# Thingworx!"
      ]
    },
    {
      "cell_type": "code",
      "metadata": {
        "colab": {
          "base_uri": "https://localhost:8080/",
          "height": 198
        },
        "id": "QVFbmAzMAv_5",
        "outputId": "ba052a5a-e487-402c-c22c-d42e01b3f308"
      },
      "source": [
        "# Connect To Onshape\n",
        "\n",
        "## Thingworx properties\n",
        "# url = \"<Insert-Url-Here>\"\n",
        "# appKey = \"<Insert-App-Key-Here>\"\n",
        "\n",
        "## Conects to Thingworx\n",
        "oc.connectToThingworx(url, appKey)"
      ],
      "execution_count": 2,
      "outputs": [
        {
          "output_type": "error",
          "ename": "NameError",
          "evalue": "ignored",
          "traceback": [
            "\u001b[0;31m---------------------------------------------------------------------------\u001b[0m",
            "\u001b[0;31mNameError\u001b[0m                                 Traceback (most recent call last)",
            "\u001b[0;32m<ipython-input-2-545859606295>\u001b[0m in \u001b[0;36m<module>\u001b[0;34m()\u001b[0m\n\u001b[1;32m      6\u001b[0m \u001b[0;34m\u001b[0m\u001b[0m\n\u001b[1;32m      7\u001b[0m \u001b[0;31m## Conects to Thingworx\u001b[0m\u001b[0;34m\u001b[0m\u001b[0;34m\u001b[0m\u001b[0;34m\u001b[0m\u001b[0m\n\u001b[0;32m----> 8\u001b[0;31m \u001b[0moc\u001b[0m\u001b[0;34m.\u001b[0m\u001b[0mconnectToThingworx\u001b[0m\u001b[0;34m(\u001b[0m\u001b[0murl\u001b[0m\u001b[0;34m,\u001b[0m \u001b[0mappKey\u001b[0m\u001b[0;34m)\u001b[0m\u001b[0;34m\u001b[0m\u001b[0;34m\u001b[0m\u001b[0m\n\u001b[0m",
            "\u001b[0;31mNameError\u001b[0m: name 'oc' is not defined"
          ]
        }
      ]
    },
    {
      "cell_type": "code",
      "metadata": {
        "colab": {
          "base_uri": "https://localhost:8080/",
          "height": 232
        },
        "id": "eK-sLqO2L_Et",
        "outputId": "6ab3d90c-5140-4ccb-dfc7-1f68de397ff9"
      },
      "source": [
        "# Editing Thingworx Properties\n",
        "\n",
        "## Gets current property values\n",
        "properties = oc.thingworxGET(verbose=True)\n",
        "\n",
        "## Prompts the user to edit their configurations\n",
        "newProperties = oc.promptThings(properties)\n",
        "\n",
        "print(\"\\nProperties that will be changed:\")\n",
        "print(json.dumps(newProperties, indent=2), \"\\n\")\n",
        "\n",
        "## Makes API call to edit configurations\n",
        "statusCode = oc.thingworxPUT(newProperties)\n",
        "print(statusCode)\n",
        "## Note: Status code 200 means success!"
      ],
      "execution_count": 3,
      "outputs": [
        {
          "output_type": "error",
          "ename": "NameError",
          "evalue": "ignored",
          "traceback": [
            "\u001b[0;31m---------------------------------------------------------------------------\u001b[0m",
            "\u001b[0;31mNameError\u001b[0m                                 Traceback (most recent call last)",
            "\u001b[0;32m<ipython-input-3-18e2d0ddbafb>\u001b[0m in \u001b[0;36m<module>\u001b[0;34m()\u001b[0m\n\u001b[1;32m      2\u001b[0m \u001b[0;34m\u001b[0m\u001b[0m\n\u001b[1;32m      3\u001b[0m \u001b[0;31m## Gets current property values\u001b[0m\u001b[0;34m\u001b[0m\u001b[0;34m\u001b[0m\u001b[0;34m\u001b[0m\u001b[0m\n\u001b[0;32m----> 4\u001b[0;31m \u001b[0mproperties\u001b[0m \u001b[0;34m=\u001b[0m \u001b[0moc\u001b[0m\u001b[0;34m.\u001b[0m\u001b[0mthingworxGET\u001b[0m\u001b[0;34m(\u001b[0m\u001b[0mverbose\u001b[0m\u001b[0;34m=\u001b[0m\u001b[0;32mTrue\u001b[0m\u001b[0;34m)\u001b[0m\u001b[0;34m\u001b[0m\u001b[0;34m\u001b[0m\u001b[0m\n\u001b[0m\u001b[1;32m      5\u001b[0m \u001b[0;34m\u001b[0m\u001b[0m\n\u001b[1;32m      6\u001b[0m \u001b[0;31m## Prompts the user to edit their configurations\u001b[0m\u001b[0;34m\u001b[0m\u001b[0;34m\u001b[0m\u001b[0;34m\u001b[0m\u001b[0m\n",
            "\u001b[0;31mNameError\u001b[0m: name 'oc' is not defined"
          ]
        }
      ]
    },
    {
      "cell_type": "code",
      "metadata": {
        "id": "ZmqaBV9nCmt3"
      },
      "source": [
        "# Manually Editting Properties (Redudent with cell above)\n",
        "\n",
        "## Check Property values\n",
        "oc.thingworxGET(verbose=True)\n",
        "\n",
        "## Example newProperties body (for the testThing) to be used with thingworxPut()\n",
        "newProperties = {\n",
        "    \"Second\": 180,\n",
        "    \"Minute\": 180,\n",
        "    \"Hour\": 180\n",
        "}\n",
        "\n",
        "## Makes API call to edit properties\n",
        "oc.thingworxPUT(newConfigs)\n",
        "\n",
        "## Check Property values\n",
        "oc.thingworxGET(verbose=True)"
      ],
      "execution_count": null,
      "outputs": []
    },
    {
      "cell_type": "markdown",
      "metadata": {
        "id": "lF98E_Xsq-31"
      },
      "source": [
        "# Transformations!"
      ]
    },
    {
      "cell_type": "code",
      "metadata": {
        "colab": {
          "base_uri": "https://localhost:8080/"
        },
        "id": "IKTFqLV0rCi-",
        "outputId": "39763132-ec16-4b41-8619-8d6448fccd76"
      },
      "source": [
        "# Get Parts and Positions\n",
        "\n",
        "\n",
        "## Gets Assembly (parts and positions) information\n",
        "## Note: Assembly info prints all the parts and sub assemblies!\n",
        "assemblyInfo = oc.getAssemblyInfo()\n",
        "oc.printAssembly(assemblyInfo, positions=True)\n"
      ],
      "execution_count": 5,
      "outputs": [
        {
          "output_type": "stream",
          "text": [
            "Assembly Info:\n",
            "Key <1> (MpvhYOp6b7uAhogNf)\n",
            "\tTranslation (x, y, z): \t\t 0.75 \t -0.75 \t 0.0\n",
            "\tRotation (ux, uy, uz, alpha): \t 0.0 \t 0.0 \t 1.0 \t 90.0\n",
            "Plane <1> (MBY012YAYxL98d1Mo)\n",
            "\tTranslation (x, y, z): \t\t -0.75 \t -0.75 \t 0.0\n",
            "\tRotation (ux, uy, uz, alpha): \t 0 \t 0 \t 0 \t 0.0\n",
            "box <1> (MkbliODWwWA2T80sc)\n",
            "\tTranslation (x, y, z): \t\t 0.566 \t 0.887 \t 0.026\n",
            "\tRotation (ux, uy, uz, alpha): \t 0 \t 0 \t 0 \t 0.0\n",
            "\n"
          ],
          "name": "stdout"
        }
      ]
    },
    {
      "cell_type": "code",
      "metadata": {
        "id": "7PyTlplXIfzB",
        "colab": {
          "base_uri": "https://localhost:8080/"
        },
        "outputId": "4704f77c-97a3-4c6c-c363-9360eded312f"
      },
      "source": [
        "# Setting transformations\n",
        "\n",
        "## TransArgs are internal data structure representing the following:\n",
        "# [tx, ty, tz, rx, ry, rz, alpha]\n",
        "# These are used to create transformation matrices\n",
        "\n",
        "## Automatic TransArg\n",
        "transArg = oc.promptTransArg(assemblyInfo)"
      ],
      "execution_count": 6,
      "outputs": [
        {
          "output_type": "stream",
          "text": [
            "Please Enter tx value:\n",
            "0\n",
            "Please Enter ty value:\n",
            "0\n",
            "Please Enter tz value:\n",
            "0\n",
            "Please Enter rx value:\n",
            "0\n",
            "Please Enter ry value:\n",
            "0\n",
            "Please Enter rz value:\n",
            "1\n",
            "Please Enter alpha (degree) value:\n",
            "90\n",
            "[0.0, 0.0, 0.0, 0.0, 0.0, 1.0, 90.0]\n"
          ],
          "name": "stdout"
        }
      ]
    },
    {
      "cell_type": "code",
      "metadata": {
        "id": "78lUiFPU-vML"
      },
      "source": [
        "## OR Manual setting of TransArg\n",
        "transArg = [0, -.1, 0, 0, 0, 0, 0]"
      ],
      "execution_count": null,
      "outputs": []
    },
    {
      "cell_type": "code",
      "metadata": {
        "colab": {
          "base_uri": "https://localhost:8080/"
        },
        "id": "sNqgGx3UoEqP",
        "outputId": "bfceb629-16b6-4a05-d16c-324010134746"
      },
      "source": [
        "# Manually setting transformations from a manual translation matrix\n",
        "\n",
        "\n",
        "## A Transformation Matrix is a 16x1 array that represents a 4x4 array.\n",
        "## https://drafts.csswg.org/css-transforms-2/#mathematical-description\n",
        "## https://pages.mtu.edu/~shene/COURSES/cs3621/NOTES/geometry/geo-tran.html \n",
        "\n",
        "## Automatic get Transformation Matrix (from transArg)\n",
        "M = oc.getTranslationMatrix(transArg)\n",
        "\n",
        "## Print your transformation\n",
        "oc.prettyPrintMatrix(M)"
      ],
      "execution_count": 7,
      "outputs": [
        {
          "output_type": "stream",
          "text": [
            "[\n",
            "   2.220446049250313e-16\t   -1.0\t   0.0\t   0.0\t\n",
            "   1.0\t   2.220446049250313e-16\t   0.0\t   0.0\t\n",
            "   0.0\t   0.0\t   1.0\t   0.0\t\n",
            "   0.0\t   0.0\t   0.0\t   1.0\t\n",
            "]\n"
          ],
          "name": "stdout"
        }
      ]
    },
    {
      "cell_type": "code",
      "metadata": {
        "colab": {
          "base_uri": "https://localhost:8080/"
        },
        "id": "F-vpB_sW-7a0",
        "outputId": "e02a328e-0570-4dd3-c08c-f7bb2b2c1874"
      },
      "source": [
        "## OR Manual setting of a Transformation Matrix\n",
        "M = [\n",
        "   1.0,     0.0,     0.0,     0  ,\n",
        "   0.0,     1.0,     0.0,     0.1,\n",
        "   0.0,     0.0,     1.0,     0  ,\n",
        "   0.0,     0.0,     0.0,     1.0\n",
        "]\n",
        "\n",
        "A = [\n",
        "   0.0,     0.0,     0.0,     0  ,\n",
        "   0.0,     0.0,     0.0,     0.1,\n",
        "   0.0,     0.0,     0.0,     0  ,\n",
        "   0.0,     0.0,     0.0,     1.0\n",
        "]\n",
        "\n",
        "\n",
        "## Option to do Matrix operations!\n",
        "B = oc.add(M, A)\n",
        "\n",
        "## Print your transformation\n",
        "oc.prettyPrintMatrix(M)\n",
        "\n",
        "## Double check your matrix! / TODO\n",
        "# oc.checkMatrix(M, verbose=True)"
      ],
      "execution_count": 8,
      "outputs": [
        {
          "output_type": "stream",
          "text": [
            "[\n",
            "   1.0\t   0.0\t   0.0\t   0\t\n",
            "   0.0\t   1.0\t   0.0\t   0.1\t\n",
            "   0.0\t   0.0\t   1.0\t   0\t\n",
            "   0.0\t   0.0\t   0.0\t   1.0\t\n",
            "]\n"
          ],
          "name": "stdout"
        }
      ]
    },
    {
      "cell_type": "code",
      "metadata": {
        "colab": {
          "base_uri": "https://localhost:8080/",
          "height": 154
        },
        "id": "RwxIwHDzP5-G",
        "outputId": "b0547611-910a-4942-8d11-60cd8a3483ec"
      },
      "source": [
        "## Automatic Get parts list\n",
        "parts = oc.promptParts(assemblyInfo)"
      ],
      "execution_count": 11,
      "outputs": [
        {
          "output_type": "stream",
          "text": [
            "What Parts do you want to transform?\n",
            "\tTransform Key <1>? (y/n)\n",
            "y\n",
            "\tTransform Plane <1>? (y/n)\n",
            "n\n",
            "\tTransform box <1>? (y/n)\n",
            "n\n"
          ],
          "name": "stdout"
        },
        {
          "output_type": "execute_result",
          "data": {
            "application/vnd.google.colaboratory.intrinsic+json": {
              "type": "string"
            },
            "text/plain": [
              "'success'"
            ]
          },
          "metadata": {
            "tags": []
          },
          "execution_count": 11
        }
      ]
    },
    {
      "cell_type": "code",
      "metadata": {
        "id": "yAKx564w_G2S"
      },
      "source": [
        "## Manual setting of parts list (Array of part ids (each part id is an array\n",
        "##   of part/subassembly ids)\n",
        "parts = [['MkbliODWwWA2T80sc']]"
      ],
      "execution_count": 10,
      "outputs": []
    },
    {
      "cell_type": "code",
      "metadata": {
        "colab": {
          "base_uri": "https://localhost:8080/",
          "height": 35
        },
        "id": "n4zk6k4jQD4k",
        "outputId": "447c6a3c-09aa-4185-8dc4-b068aed345b0"
      },
      "source": [
        "## Boolean variable representing if a transform is relative\n",
        "isRelative = True\n",
        "\n",
        "## Make API Call\n",
        "oc.postTransform(M, isRelative, parts)"
      ],
      "execution_count": 12,
      "outputs": [
        {
          "output_type": "execute_result",
          "data": {
            "application/vnd.google.colaboratory.intrinsic+json": {
              "type": "string"
            },
            "text/plain": [
              "'success'"
            ]
          },
          "metadata": {
            "tags": []
          },
          "execution_count": 12
        }
      ]
    },
    {
      "cell_type": "code",
      "metadata": {
        "id": "iLSPW0eanYUz"
      },
      "source": [
        "import numpy as np\n",
        "\n",
        "alpha = np.pi/2 \n",
        "\n",
        "## Rotate around X\n",
        "\n",
        "B = [\n",
        "   1.0,             0.0,             0.0,             0.0,\n",
        "   0.0,             np.cos(alpha),   -(np.sin(alpha)), 0.0,\n",
        "   0.0,             np.sin(alpha),   np.cos(alpha),   0.0,\n",
        "   0.0,             0.0,             0.0,             1.0\n",
        "]\n",
        "\n",
        "oc.prettyPrintMatrix(B)"
      ],
      "execution_count": null,
      "outputs": []
    }
  ]
}