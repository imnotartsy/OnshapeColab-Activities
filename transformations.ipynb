{
  "nbformat": 4,
  "nbformat_minor": 0,
  "metadata": {
    "colab": {
      "name": "Transformations",
      "provenance": [],
      "collapsed_sections": [],
      "toc_visible": true,
      "authorship_tag": "ABX9TyP8dowMTsg+04LFYYdv4Lyj",
      "include_colab_link": true
    },
    "kernelspec": {
      "name": "python3",
      "display_name": "Python 3"
    },
    "language_info": {
      "name": "python"
    }
  },
  "cells": [
    {
      "cell_type": "markdown",
      "metadata": {
        "id": "view-in-github",
        "colab_type": "text"
      },
      "source": [
        "<a href=\"https://colab.research.google.com/github/imnotartsy/OnshapeColab-Activities/blob/main/transformations.ipynb\" target=\"_parent\"><img src=\"https://colab.research.google.com/assets/colab-badge.svg\" alt=\"Open In Colab\"/></a>"
      ]
    },
    {
      "cell_type": "markdown",
      "metadata": {
        "id": "Mf2xaAgqij5a"
      },
      "source": [
        "# Hi! Welcome to the Onshape API Playgound!\n",
        "This notebook contains the setup for installing the Onshape API Playground, the starter code to get connected to the Onshape API, and an introduction to configurations in Onshape.\n",
        "\n",
        "## Getting Started\n",
        "1. Get your Onshape **assembly** document set up with configurations! When getting started with configurations in Onshape, an example is often helpful avaliable [here](https://cad.onshape.com/documents/d75bb6f0855244bdb3902141/w/2a59db92740eb894f3b29038/e/3bddbc17e620a65192e913f8).\n",
        "  - Copy this public document with prebuilt configurations by clicking on the \"Make a copy\" button in the top right, so you can edit the configurations and document as you need!\n",
        "  - This document is preset so the configurations are set to different mate angles between the clock hands and the clock face in terms of degrees.\n",
        "  - Note you will need an Onshape Account to copy this document, although this is not necessary to edit the configuration values of the example document.\n",
        "\n",
        "2. Enter your document parameters and API Keys in Code Cell 2.\n",
        "  - More information on document preferences can be found [here](https://github.com/imnotartsy/Onshape-90min-Activities/blob/main/README.md#document-settings).\n",
        "  - More information on Onshape API keys can be found [here](https://github.com/imnotartsy/Onshape-90min-Activities/blob/main/README.md#api-keys).\n",
        "\n",
        "## Function Documentation\n",
        "All the documentation regarding functions in OnshapeColab (oc) Library can be found [here](https://github.com/imnotartsy/OnshapeColab/blob/master/README.md#function-documentation).\n",
        "\n",
        "Happy Tinkering!"
      ]
    },
    {
      "cell_type": "markdown",
      "metadata": {
        "id": "4yjm835pioS8"
      },
      "source": [
        "# Installation Blocks\n",
        "Run these once at the beginning of every session!"
      ]
    },
    {
      "cell_type": "code",
      "metadata": {
        "id": "TMbjzxtqibII"
      },
      "source": [
        "# Github Installation and fresh requirements install\n",
        "\n",
        "!rm -r OnshapeColab\n",
        "## If this is your first time running this cell the output should be\n",
        "##   \"rm: cannot remove 'OnshapeColab': No such file or directory\"\n",
        "\n",
        "print(\"*** Installing git repo . . . ***\")\n",
        "!git clone https://github.com/imnotartsy/OnshapeColab\n",
        "\n",
        "print(\"\\n*** Installing external dependencies . . . ***\")\n",
        "!pip install -r OnshapeColab/requirements.txt\n",
        "\n",
        "print(\"\\n*** Repository and requirements installed sucessfully! ***\")"
      ],
      "execution_count": null,
      "outputs": []
    },
    {
      "cell_type": "code",
      "metadata": {
        "id": "mD_I-x_Ii2vZ"
      },
      "source": [
        "# Connect to Onshape\n",
        "import OnshapeColab as oc\n",
        "\n",
        "## Document identifiers\n",
        "\n",
        "### Translatiotion test - Example Document\n",
        "did = \"0b15b64be5e54bc64d6fb3ff\"\n",
        "wid = \"8653864b34cbf101c1c0acb1\"\n",
        "eid = \"58703372dd872b5ec7f548a2\"\n",
        "\n",
        "## Onshape API keys\n",
        "# access =\"<Insert-Access-Key-Here>\"\n",
        "# secret = \"<Insert-Secret-Key-Here>\"\n",
        "\n",
        "## Connects to Onshape API\n",
        "oc.connectToOnshape(did, wid, eid, access, secret, verbose=True)"
      ],
      "execution_count": null,
      "outputs": []
    },
    {
      "cell_type": "code",
      "metadata": {
        "id": "yivFHJXijPP_"
      },
      "source": [
        "# Get Parts and Configurations\n",
        "\n",
        "## Gets Assembly (parts and positions) information\n",
        "## Note: Assembly info prints all the parts and sub assemblies!\n",
        "assemblyInfo = oc.getAssemblyInfo()\n",
        "oc.printAssembly(assemblyInfo, positions=True)\n",
        "\n",
        "## Gets Configurations\n",
        "configInfo = oc.getConfigurations()\n",
        "oc.printConfigurations(configInfo)"
      ],
      "execution_count": null,
      "outputs": []
    },
    {
      "cell_type": "markdown",
      "metadata": {
        "id": "ftcW2ATVjQQT"
      },
      "source": [
        "# Transformations"
      ]
    },
    {
      "cell_type": "code",
      "metadata": {
        "id": "eWRR6M-OjUvy"
      },
      "source": [
        "# Get Parts and Positions\n",
        "\n",
        "## Gets Assembly (parts and positions) information\n",
        "## Note: Assembly info prints all the parts and sub assemblies!\n",
        "assemblyInfo = oc.getAssemblyInfo()\n",
        "oc.printAssembly(assemblyInfo, positions=True)"
      ],
      "execution_count": null,
      "outputs": []
    },
    {
      "cell_type": "code",
      "metadata": {
        "id": "E99PY6pejiwe"
      },
      "source": [
        "# Setting transformations\n",
        "\n",
        "## TransArgs are internal data structure representing the following:\n",
        "# [tx, ty, tz, rx, ry, rz, alpha]\n",
        "# These are used to create transformation matrices\n",
        "\n",
        "\n",
        "## Automatic TransArg\n",
        "transArg = oc.promptTransArg(assemblyInfo)"
      ],
      "execution_count": null,
      "outputs": []
    },
    {
      "cell_type": "code",
      "metadata": {
        "id": "8VC8oOrMkMbS"
      },
      "source": [
        "## OR Manual setting of TransArg\n",
        "transArg = [0, -.1, 0, 0, 0, 0, 0]"
      ],
      "execution_count": null,
      "outputs": []
    },
    {
      "cell_type": "code",
      "metadata": {
        "id": "zyNlf19ukTiz"
      },
      "source": [
        "# Manually setting transformations from a manual translation matrix\n",
        "\n",
        "## A Transformation Matrix is a 16x1 array that represents a 4x4 array.\n",
        "## https://drafts.csswg.org/css-transforms-2/#mathematical-description\n",
        "## https://pages.mtu.edu/~shene/COURSES/cs3621/NOTES/geometry/geo-tran.html \n",
        "\n",
        "\n",
        "## Automatic get Transformation Matrix (from transArg)\n",
        "M = oc.getTranslationMatrix(transArg)\n",
        "\n",
        "## Print your transformation\n",
        "oc.prettyPrintMatrix(M)"
      ],
      "execution_count": null,
      "outputs": []
    },
    {
      "cell_type": "code",
      "metadata": {
        "id": "gvc73PuOkWzF"
      },
      "source": [
        "## OR Manual setting of a Transformation Matrix\n",
        "M = [\n",
        "   1.0,     0.0,     0.0,     0  ,\n",
        "   0.0,     1.0,     0.0,     0.1,\n",
        "   0.0,     0.0,     1.0,     0  ,\n",
        "   0.0,     0.0,     0.0,     1.0\n",
        "]\n",
        "\n",
        "## Print your transformation\n",
        "oc.prettyPrintMatrix(M)\n",
        "\n",
        "## Double check your matrix! / TODO\n",
        "# oc.checkMatrix(M, verbose=True)"
      ],
      "execution_count": null,
      "outputs": []
    },
    {
      "cell_type": "code",
      "metadata": {
        "id": "UGJaLufzkaPt"
      },
      "source": [
        "## OR Manual seatting of a Transformation Matrix, using Matrix arithmetic functions\n",
        "\n",
        "\n",
        "A = [\n",
        "   0.0,     0.0,     0.0,     0  ,\n",
        "   0.0,     0.0,     0.0,     0.1,\n",
        "   0.0,     0.0,     0.0,     0  ,\n",
        "   0.0,     0.0,     0.0,     1.0\n",
        "]\n",
        "\n",
        "\n",
        "## Option to do Matrix operations!\n",
        "B = oc.add(M, A)\n",
        "\n",
        "oc.prettyPrintMatrix(M)\n",
        "## Double check your matrix! / TODO\n",
        "# oc.checkMatrix(M, verbose=True)"
      ],
      "execution_count": null,
      "outputs": []
    },
    {
      "cell_type": "code",
      "metadata": {
        "id": "d1fiPwWgkjDC"
      },
      "source": [
        "## Automatic Get parts list\n",
        "parts = oc.promptParts(assemblyInfo)"
      ],
      "execution_count": null,
      "outputs": []
    },
    {
      "cell_type": "code",
      "metadata": {
        "id": "mJ7zDeYOkkO6"
      },
      "source": [
        "## Manual setting of parts list (Array of part ids (each part id is an array\n",
        "##   of part/subassembly ids)\n",
        "parts = [['MkbliODWwWA2T80sc']]"
      ],
      "execution_count": null,
      "outputs": []
    },
    {
      "cell_type": "code",
      "metadata": {
        "id": "h0N2w3N9klzt"
      },
      "source": [
        "## Boolean variable representing if a transform is relative\n",
        "isRelative = True\n",
        "\n",
        "## Make API Call\n",
        "oc.postTransform(M, isRelative, parts)"
      ],
      "execution_count": null,
      "outputs": []
    }
  ]
}